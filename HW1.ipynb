{
 "cells": [
  {
   "cell_type": "code",
   "execution_count": 40,
   "metadata": {
    "ExecuteTime": {
     "end_time": "2021-10-04T15:58:35.869898Z",
     "start_time": "2021-10-04T15:58:35.420168Z"
    },
    "scrolled": true
   },
   "outputs": [],
   "source": [
    "import numpy as np\n",
    "import random"
   ]
  },
  {
   "cell_type": "markdown",
   "metadata": {},
   "source": [
    "# Максимум 5 баллов - по ~0.7 баллов за задание"
   ]
  },
  {
   "cell_type": "markdown",
   "metadata": {},
   "source": [
    "### 1. Подсчитать произведение ненулевых элементов на диагонали прямоугольной матрицы. \n",
    "Для X = np.array([[1, 0, 1], [2, 0, 2], [3, 0, 3], [4, 4, 4]]) ответ 3."
   ]
  },
  {
   "cell_type": "code",
   "execution_count": 50,
   "metadata": {},
   "outputs": [],
   "source": [
    "X = np.array([[1, 0, 1], [2, 0, 2], [3, 0, 3], [4, 4, 4]], dtype=int)\n",
    "X_1 = np.array([[random.randint(0, 3) for i in range(10)] for j in range(7)])\n",
    "X_2 = np.array([[random.randint(0, 3) for i in range(70)] for j in range(100)])\n",
    "X_3 = np.array([[random.randint(0, 3) for i in range(1000)] for j in range(1000)])"
   ]
  },
  {
   "cell_type": "markdown",
   "metadata": {},
   "source": [
    "#### 1.1"
   ]
  },
  {
   "cell_type": "code",
   "execution_count": 57,
   "metadata": {},
   "outputs": [
    {
     "data": {
      "text/plain": [
       "3"
      ]
     },
     "execution_count": 57,
     "metadata": {},
     "output_type": "execute_result"
    }
   ],
   "source": [
    "np.prod(np.diag(X)[np.diag(X).nonzero()])"
   ]
  },
  {
   "cell_type": "code",
   "execution_count": 58,
   "metadata": {},
   "outputs": [
    {
     "name": "stdout",
     "output_type": "stream",
     "text": [
      "7.58 µs ± 94.2 ns per loop (mean ± std. dev. of 7 runs, 100000 loops each)\n"
     ]
    }
   ],
   "source": [
    "%%timeit\n",
    "np.prod(np.diag(X_1)[np.diag(X_1).nonzero()])"
   ]
  },
  {
   "cell_type": "code",
   "execution_count": 59,
   "metadata": {},
   "outputs": [
    {
     "name": "stdout",
     "output_type": "stream",
     "text": [
      "8.06 µs ± 51.2 ns per loop (mean ± std. dev. of 7 runs, 100000 loops each)\n"
     ]
    }
   ],
   "source": [
    "%%timeit\n",
    "np.prod(np.diag(X_2)[np.diag(X_2).nonzero()])"
   ]
  },
  {
   "cell_type": "code",
   "execution_count": 60,
   "metadata": {},
   "outputs": [
    {
     "name": "stdout",
     "output_type": "stream",
     "text": [
      "13.4 µs ± 235 ns per loop (mean ± std. dev. of 7 runs, 100000 loops each)\n"
     ]
    }
   ],
   "source": [
    "%%timeit\n",
    "np.prod(np.diag(X_3)[np.diag(X_3).nonzero()])"
   ]
  },
  {
   "cell_type": "markdown",
   "metadata": {},
   "source": [
    "#### 1.2"
   ]
  },
  {
   "cell_type": "code",
   "execution_count": 53,
   "metadata": {},
   "outputs": [
    {
     "data": {
      "text/plain": [
       "3"
      ]
     },
     "execution_count": 53,
     "metadata": {},
     "output_type": "execute_result"
    }
   ],
   "source": [
    "res = 1\n",
    "for i in range(min(X.shape)):\n",
    "    if X[i, i] != 0:\n",
    "        res *= X[i, i]\n",
    "res"
   ]
  },
  {
   "cell_type": "code",
   "execution_count": 65,
   "metadata": {},
   "outputs": [
    {
     "name": "stdout",
     "output_type": "stream",
     "text": [
      "2.72 µs ± 153 ns per loop (mean ± std. dev. of 7 runs, 100000 loops each)\n"
     ]
    }
   ],
   "source": [
    "%%timeit\n",
    "res = 1\n",
    "for i in range(min(X_1.shape)):\n",
    "    if X_1[i, i] != 0:\n",
    "        res *= X_1[i, i]\n",
    "res"
   ]
  },
  {
   "cell_type": "code",
   "execution_count": 55,
   "metadata": {},
   "outputs": [
    {
     "name": "stdout",
     "output_type": "stream",
     "text": [
      "23.8 µs ± 659 ns per loop (mean ± std. dev. of 7 runs, 10000 loops each)\n"
     ]
    }
   ],
   "source": [
    "%%timeit\n",
    "res = 1\n",
    "for i in range(min(X_2.shape)):\n",
    "    if X_2[i, i] != 0:\n",
    "        res *= X_2[i, i]\n",
    "res"
   ]
  },
  {
   "cell_type": "code",
   "execution_count": 56,
   "metadata": {},
   "outputs": [
    {
     "name": "stderr",
     "output_type": "stream",
     "text": [
      "/snap/jupyter/6/lib/python3.7/site-packages/ipykernel_launcher.py:4: RuntimeWarning: overflow encountered in long_scalars\n",
      "  after removing the cwd from sys.path.\n"
     ]
    },
    {
     "name": "stdout",
     "output_type": "stream",
     "text": [
      "377 µs ± 8.52 µs per loop (mean ± std. dev. of 7 runs, 1000 loops each)\n"
     ]
    }
   ],
   "source": [
    "%%timeit\n",
    "res = 1\n",
    "for i in range(min(X_3.shape)):\n",
    "    if X_3[i, i] != 0:\n",
    "        res *= X_3[i, i]\n",
    "res"
   ]
  },
  {
   "cell_type": "markdown",
   "metadata": {},
   "source": [
    "#### 1.3"
   ]
  },
  {
   "cell_type": "code",
   "execution_count": 61,
   "metadata": {},
   "outputs": [
    {
     "data": {
      "text/plain": [
       "3"
      ]
     },
     "execution_count": 61,
     "metadata": {},
     "output_type": "execute_result"
    }
   ],
   "source": [
    "np.prod(list(filter(lambda x: x != 0, np.diag(X))))"
   ]
  },
  {
   "cell_type": "code",
   "execution_count": 62,
   "metadata": {},
   "outputs": [
    {
     "name": "stdout",
     "output_type": "stream",
     "text": [
      "10.5 µs ± 280 ns per loop (mean ± std. dev. of 7 runs, 100000 loops each)\n"
     ]
    }
   ],
   "source": [
    "%%timeit\n",
    "np.prod(list(filter(lambda x: x != 0, np.diag(X_1))))"
   ]
  },
  {
   "cell_type": "code",
   "execution_count": 63,
   "metadata": {},
   "outputs": [
    {
     "name": "stdout",
     "output_type": "stream",
     "text": [
      "23.1 µs ± 515 ns per loop (mean ± std. dev. of 7 runs, 10000 loops each)\n"
     ]
    }
   ],
   "source": [
    "%%timeit\n",
    "np.prod(list(filter(lambda x: x != 0, np.diag(X_2))))"
   ]
  },
  {
   "cell_type": "code",
   "execution_count": 64,
   "metadata": {},
   "outputs": [
    {
     "name": "stdout",
     "output_type": "stream",
     "text": [
      "210 µs ± 2.92 µs per loop (mean ± std. dev. of 7 runs, 1000 loops each)\n"
     ]
    }
   ],
   "source": [
    "%%timeit\n",
    "np.prod(list(filter(lambda x: x != 0, np.diag(X_3))))"
   ]
  },
  {
   "cell_type": "markdown",
   "metadata": {},
   "source": [
    "#### Вывод: векторизованный вариант в разы лучше"
   ]
  },
  {
   "cell_type": "markdown",
   "metadata": {},
   "source": [
    "### 2. Дана матрица X и два вектора одинаковой длины i и j. Построить вектор np.array([X[i[0], j[0]], X[i[1], j[1]], ... , X[i[N-1], j[N-1]]])."
   ]
  },
  {
   "cell_type": "code",
   "execution_count": 67,
   "metadata": {
    "scrolled": true
   },
   "outputs": [],
   "source": [
    "import random\n",
    "X_1 = np.matrix(np.arange(1, 10, 1).reshape(-1, 3))\n",
    "X_2 = np.matrix(np.arange(1, 91, 1).reshape(-1, 3))\n",
    "X_3 = np.matrix(np.arange(1, 901, 1).reshape(-1, 3))\n",
    "i_1 = np.array([random.randint(0, 2) for x in range(X_1.size)])\n",
    "i_2 = np.array([random.randint(0, 29) for x in range(X_2.size)])\n",
    "i_3 = np.array([random.randint(0, 299) for x in range(X_3.size)])\n",
    "j_1 = np.array([random.randint(0, 2) for x in range(X_1.size)])\n",
    "j_2 = np.array([random.randint(0, 2) for x in range(X_2.size)])\n",
    "j_3 = np.array([random.randint(0, 2) for x in range(X_3.size)])"
   ]
  },
  {
   "cell_type": "markdown",
   "metadata": {},
   "source": [
    "#### 2.1"
   ]
  },
  {
   "cell_type": "code",
   "execution_count": 69,
   "metadata": {},
   "outputs": [
    {
     "data": {
      "text/plain": [
       "array([2, 1, 8, 3, 9, 9, 6, 5, 6])"
      ]
     },
     "execution_count": 69,
     "metadata": {},
     "output_type": "execute_result"
    }
   ],
   "source": [
    "np.array([X_1[i_1[n], j_1[n]] for n in range(i_1.size)])"
   ]
  },
  {
   "cell_type": "code",
   "execution_count": 70,
   "metadata": {},
   "outputs": [
    {
     "name": "stdout",
     "output_type": "stream",
     "text": [
      "7.69 µs ± 96.2 ns per loop (mean ± std. dev. of 7 runs, 100000 loops each)\n"
     ]
    }
   ],
   "source": [
    "%%timeit\n",
    "np.array([X_1[i_1[n], j_1[n]] for n in range(i_1.size)])"
   ]
  },
  {
   "cell_type": "code",
   "execution_count": 71,
   "metadata": {},
   "outputs": [
    {
     "name": "stdout",
     "output_type": "stream",
     "text": [
      "70.8 µs ± 1.62 µs per loop (mean ± std. dev. of 7 runs, 10000 loops each)\n"
     ]
    }
   ],
   "source": [
    "%%timeit\n",
    "np.array([X_2[i_2[n], j_2[n]] for n in range(i_2.size)])"
   ]
  },
  {
   "cell_type": "code",
   "execution_count": 72,
   "metadata": {
    "scrolled": true
   },
   "outputs": [
    {
     "name": "stdout",
     "output_type": "stream",
     "text": [
      "683 µs ± 13.6 µs per loop (mean ± std. dev. of 7 runs, 1000 loops each)\n"
     ]
    }
   ],
   "source": [
    "%%timeit\n",
    "np.array([X_3[i_3[n], j_3[n]] for n in range(i_3.size)])"
   ]
  },
  {
   "cell_type": "markdown",
   "metadata": {},
   "source": [
    "#### 2.2"
   ]
  },
  {
   "cell_type": "code",
   "execution_count": 73,
   "metadata": {},
   "outputs": [
    {
     "data": {
      "text/plain": [
       "array([2, 1, 8, 3, 9, 9, 6, 5, 6])"
      ]
     },
     "execution_count": 73,
     "metadata": {},
     "output_type": "execute_result"
    }
   ],
   "source": [
    "np.array(X_1[i_1, j_1])[0]"
   ]
  },
  {
   "cell_type": "code",
   "execution_count": 74,
   "metadata": {},
   "outputs": [
    {
     "name": "stdout",
     "output_type": "stream",
     "text": [
      "4.38 µs ± 26.9 ns per loop (mean ± std. dev. of 7 runs, 100000 loops each)\n"
     ]
    }
   ],
   "source": [
    "%%timeit\n",
    "np.array(X_1[i_1, j_1])[0]"
   ]
  },
  {
   "cell_type": "code",
   "execution_count": 75,
   "metadata": {},
   "outputs": [
    {
     "name": "stdout",
     "output_type": "stream",
     "text": [
      "4.79 µs ± 39 ns per loop (mean ± std. dev. of 7 runs, 100000 loops each)\n"
     ]
    }
   ],
   "source": [
    "%%timeit\n",
    "np.array(X_2[i_2, j_2])[0]"
   ]
  },
  {
   "cell_type": "code",
   "execution_count": 76,
   "metadata": {
    "scrolled": true
   },
   "outputs": [
    {
     "name": "stdout",
     "output_type": "stream",
     "text": [
      "9.03 µs ± 57.2 ns per loop (mean ± std. dev. of 7 runs, 100000 loops each)\n"
     ]
    }
   ],
   "source": [
    "%%timeit\n",
    "np.array(X_3[i_3, j_3])[0]"
   ]
  },
  {
   "cell_type": "markdown",
   "metadata": {},
   "source": [
    "#### 2.3"
   ]
  },
  {
   "cell_type": "code",
   "execution_count": 77,
   "metadata": {},
   "outputs": [
    {
     "data": {
      "text/plain": [
       "array([2, 1, 8, 3, 9, 9, 6, 5, 6])"
      ]
     },
     "execution_count": 77,
     "metadata": {},
     "output_type": "execute_result"
    }
   ],
   "source": [
    "res = []\n",
    "for n in range(X_1.size):\n",
    "    res.append(X_1[i_1[n], j_1[n]])\n",
    "np.array(res)"
   ]
  },
  {
   "cell_type": "code",
   "execution_count": 78,
   "metadata": {},
   "outputs": [
    {
     "name": "stdout",
     "output_type": "stream",
     "text": [
      "7.87 µs ± 265 ns per loop (mean ± std. dev. of 7 runs, 100000 loops each)\n"
     ]
    }
   ],
   "source": [
    "%%timeit\n",
    "res = []\n",
    "for n in range(X_1.size):\n",
    "    res.append(X_1[i_1[n], j_1[n]])\n",
    "np.array(res)"
   ]
  },
  {
   "cell_type": "code",
   "execution_count": 79,
   "metadata": {},
   "outputs": [
    {
     "name": "stdout",
     "output_type": "stream",
     "text": [
      "70.7 µs ± 1.25 µs per loop (mean ± std. dev. of 7 runs, 10000 loops each)\n"
     ]
    }
   ],
   "source": [
    "%%timeit\n",
    "res = []\n",
    "for n in range(X_2.size):\n",
    "    res.append(X_2[i_2[n], j_2[n]])\n",
    "np.array(res)"
   ]
  },
  {
   "cell_type": "code",
   "execution_count": 80,
   "metadata": {},
   "outputs": [
    {
     "name": "stdout",
     "output_type": "stream",
     "text": [
      "697 µs ± 18.8 µs per loop (mean ± std. dev. of 7 runs, 1000 loops each)\n"
     ]
    }
   ],
   "source": [
    "%%timeit\n",
    "res = []\n",
    "for n in range(X_3.size):\n",
    "    res.append(X_3[i_3[n], j_3[n]])\n",
    "np.array(res)"
   ]
  },
  {
   "cell_type": "markdown",
   "metadata": {},
   "source": [
    "#### Вывод: векторизованный метод в разы лучше"
   ]
  },
  {
   "cell_type": "markdown",
   "metadata": {},
   "source": [
    "### 3. Даны два вектора x и y. Проверить, задают ли они одно и то же мультимножество. \n",
    "Для x = np.array([1, 2, 2, 4]), y = np.array([4, 2, 1, 2]) ответ True."
   ]
  },
  {
   "cell_type": "code",
   "execution_count": 90,
   "metadata": {},
   "outputs": [],
   "source": [
    "x = np.array([1, 2, 4])\n",
    "y = np.array([4, 2, 1, 2])\n",
    "x_1_size = random.randint(7, 8)\n",
    "x_1 = np.array([1 for x in range(x_1_size)] + [0 for x in range(10-x_1_size)])\n",
    "y_1 = np.array([0, 0] + [1 for x in range(8)])\n",
    "x_2_size = random.randint(79, 80)\n",
    "x_2 = np.array([1 for x in range(x_2_size)] + [0 for x in range(100-x_2_size)])\n",
    "y_2 = np.array([0 for x in range(20)] + [1 for x in range(80)])\n",
    "x_3_size = random.randint(799, 800)\n",
    "x_3 = np.array([1 for x in range(x_3_size)] + [0 for x in range(1000-x_3_size)])\n",
    "y_3 = np.array([0 for x in range(200)] + [1 for x in range(800)])"
   ]
  },
  {
   "cell_type": "markdown",
   "metadata": {},
   "source": [
    "#### 3.1"
   ]
  },
  {
   "cell_type": "code",
   "execution_count": 94,
   "metadata": {},
   "outputs": [
    {
     "data": {
      "text/plain": [
       "False"
      ]
     },
     "execution_count": 94,
     "metadata": {},
     "output_type": "execute_result"
    }
   ],
   "source": [
    "x.size == y.size and all(np.equal(np.sort(x), np.sort(y)))"
   ]
  },
  {
   "cell_type": "code",
   "execution_count": 23,
   "metadata": {
    "scrolled": false
   },
   "outputs": [
    {
     "name": "stdout",
     "output_type": "stream",
     "text": [
      "4 µs ± 23.3 ns per loop (mean ± std. dev. of 7 runs, 100000 loops each)\n"
     ]
    }
   ],
   "source": [
    "%%timeit\n",
    "x_1.size == y_1.size and all(np.equal(np.sort(x_1), np.sort(y_1)))"
   ]
  },
  {
   "cell_type": "code",
   "execution_count": 24,
   "metadata": {
    "scrolled": false
   },
   "outputs": [
    {
     "name": "stdout",
     "output_type": "stream",
     "text": [
      "5.66 µs ± 35 ns per loop (mean ± std. dev. of 7 runs, 100000 loops each)\n"
     ]
    }
   ],
   "source": [
    "%%timeit\n",
    "x_2.size == y_2.size and all(np.equal(np.sort(x_2), np.sort(y_2)))"
   ]
  },
  {
   "cell_type": "code",
   "execution_count": 25,
   "metadata": {
    "scrolled": false
   },
   "outputs": [
    {
     "name": "stdout",
     "output_type": "stream",
     "text": [
      "23 µs ± 211 ns per loop (mean ± std. dev. of 7 runs, 10000 loops each)\n"
     ]
    }
   ],
   "source": [
    "%%timeit\n",
    "x_3.size == y_3.size and all(np.equal(np.sort(x_3), np.sort(y_3)))"
   ]
  },
  {
   "cell_type": "markdown",
   "metadata": {},
   "source": [
    "#### 3.2"
   ]
  },
  {
   "cell_type": "code",
   "execution_count": 89,
   "metadata": {},
   "outputs": [
    {
     "data": {
      "text/plain": [
       "False"
      ]
     },
     "execution_count": 89,
     "metadata": {},
     "output_type": "execute_result"
    }
   ],
   "source": [
    "sorted(x) == sorted(y)"
   ]
  },
  {
   "cell_type": "code",
   "execution_count": 27,
   "metadata": {},
   "outputs": [
    {
     "name": "stdout",
     "output_type": "stream",
     "text": [
      "2.23 µs ± 26 ns per loop (mean ± std. dev. of 7 runs, 100000 loops each)\n"
     ]
    }
   ],
   "source": [
    "%%timeit\n",
    "sorted(x_1) == sorted(y_1)"
   ]
  },
  {
   "cell_type": "code",
   "execution_count": 28,
   "metadata": {},
   "outputs": [
    {
     "name": "stdout",
     "output_type": "stream",
     "text": [
      "9.43 µs ± 29.4 ns per loop (mean ± std. dev. of 7 runs, 100000 loops each)\n"
     ]
    }
   ],
   "source": [
    "%%timeit\n",
    "sorted(x_2) == sorted(y_2)"
   ]
  },
  {
   "cell_type": "code",
   "execution_count": 29,
   "metadata": {},
   "outputs": [
    {
     "name": "stdout",
     "output_type": "stream",
     "text": [
      "76.4 µs ± 416 ns per loop (mean ± std. dev. of 7 runs, 10000 loops each)\n"
     ]
    }
   ],
   "source": [
    "%%timeit\n",
    "sorted(x_3) == sorted(y_3)"
   ]
  },
  {
   "cell_type": "markdown",
   "metadata": {},
   "source": [
    "#### 3.3"
   ]
  },
  {
   "cell_type": "markdown",
   "metadata": {},
   "source": [
    "Сортировка выбором (неэффективно, да)"
   ]
  },
  {
   "cell_type": "code",
   "execution_count": 30,
   "metadata": {},
   "outputs": [
    {
     "data": {
      "text/plain": [
       "True"
      ]
     },
     "execution_count": 30,
     "metadata": {},
     "output_type": "execute_result"
    }
   ],
   "source": [
    "for i in range(x.size):\n",
    "    m = i\n",
    "    for j in range(i+1, x.size):\n",
    "        if x[j] > x[m]:\n",
    "            m = j\n",
    "    buf = x[i]\n",
    "    x[i] = x[m]\n",
    "    x[m] = buf\n",
    "for i in range(y.size):\n",
    "    m = i\n",
    "    for j in range(i+1, y.size):\n",
    "        if y[j] > y[m]:\n",
    "            m = j\n",
    "    buf = y[i]\n",
    "    y[i] = y[m]\n",
    "    y[m] = buf\n",
    "all(x == y)"
   ]
  },
  {
   "cell_type": "code",
   "execution_count": 31,
   "metadata": {},
   "outputs": [
    {
     "name": "stdout",
     "output_type": "stream",
     "text": [
      "23.4 µs ± 253 ns per loop (mean ± std. dev. of 7 runs, 10000 loops each)\n"
     ]
    }
   ],
   "source": [
    "%%timeit\n",
    "for i in range(x_1.size):\n",
    "    m = i\n",
    "    for j in range(i+1, x_1.size):\n",
    "        if x_1[j] > x_1[m]:\n",
    "            m = j\n",
    "    buf = x_1[i]\n",
    "    x_1[i] = x_1[m]\n",
    "    x_1[m] = buf\n",
    "for i in range(y_1.size):\n",
    "    m = i\n",
    "    for j in range(i+1, y_1.size):\n",
    "        if y_1[j] > y_1[m]:\n",
    "            m = j\n",
    "    buf = y_1[i]\n",
    "    y_1[i] = y_1[m]\n",
    "    y_1[m] = buf\n",
    "all(x_1 == y_1)"
   ]
  },
  {
   "cell_type": "code",
   "execution_count": 32,
   "metadata": {},
   "outputs": [
    {
     "name": "stdout",
     "output_type": "stream",
     "text": [
      "1.51 ms ± 16.8 µs per loop (mean ± std. dev. of 7 runs, 1000 loops each)\n"
     ]
    }
   ],
   "source": [
    "%%timeit\n",
    "for i in range(x_2.size):\n",
    "    m = i\n",
    "    for j in range(i+1, x_2.size):\n",
    "        if x_2[j] > x_2[m]:\n",
    "            m = j\n",
    "    buf = x_2[i]\n",
    "    x_2[i] = x_2[m]\n",
    "    x_2[m] = buf\n",
    "for i in range(y_2.size):\n",
    "    m = i\n",
    "    for j in range(i+1, y_2.size):\n",
    "        if y_2[j] > y_2[m]:\n",
    "            m = j\n",
    "    buf = y_2[i]\n",
    "    y_2[i] = y_2[m]\n",
    "    y_2[m] = buf\n",
    "all(x_2 == y_2)"
   ]
  },
  {
   "cell_type": "code",
   "execution_count": 33,
   "metadata": {},
   "outputs": [
    {
     "name": "stdout",
     "output_type": "stream",
     "text": [
      "159 ms ± 1.5 ms per loop (mean ± std. dev. of 7 runs, 10 loops each)\n"
     ]
    }
   ],
   "source": [
    "%%timeit\n",
    "for i in range(x_3.size):\n",
    "    m = i\n",
    "    for j in range(i+1, x_3.size):\n",
    "        if x_3[j] > x_3[m]:\n",
    "            m = j\n",
    "    buf = x_3[i]\n",
    "    x_3[i] = x_3[m]\n",
    "    x_3[m] = buf\n",
    "for i in range(y_3.size):\n",
    "    m = i\n",
    "    for j in range(i+1, y_3.size):\n",
    "        if y_3[j] > y_3[m]:\n",
    "            m = j\n",
    "    buf = y_3[i]\n",
    "    y_3[i] = y_3[m]\n",
    "    y_3[m] = buf\n",
    "all(x_3 == y_3)"
   ]
  },
  {
   "cell_type": "markdown",
   "metadata": {},
   "source": [
    "### 4. Найти максимальный элемент в векторе x среди элементов, перед которыми стоит нулевой. \n",
    "Для x = np.array([6, 2, 0, 3, 0, 0, 5, 7, 0]) ответ 5."
   ]
  },
  {
   "cell_type": "code",
   "execution_count": 34,
   "metadata": {},
   "outputs": [],
   "source": [
    "x = np.array([6, 2, 0, 3, 0, 0, 5, 7, 0])\n",
    "def new_item():\n",
    "    item = random.randint(0, 1)\n",
    "    if item:\n",
    "        item = random.randint(1, 100)\n",
    "    return item\n",
    "x_1 = np.array([new_item() for i in range(10)])\n",
    "x_2 = np.array([new_item() for i in range(100)])\n",
    "x_3 = np.array([new_item() for i in range(1000)])"
   ]
  },
  {
   "cell_type": "markdown",
   "metadata": {},
   "source": [
    "#### 4.1"
   ]
  },
  {
   "cell_type": "code",
   "execution_count": 35,
   "metadata": {},
   "outputs": [
    {
     "data": {
      "text/plain": [
       "5"
      ]
     },
     "execution_count": 35,
     "metadata": {},
     "output_type": "execute_result"
    }
   ],
   "source": [
    "zeroes = x == 0\n",
    "x[1:][zeroes[:-1]].max()"
   ]
  },
  {
   "cell_type": "code",
   "execution_count": 36,
   "metadata": {},
   "outputs": [
    {
     "name": "stdout",
     "output_type": "stream",
     "text": [
      "2.45 µs ± 30.9 ns per loop (mean ± std. dev. of 7 runs, 100000 loops each)\n"
     ]
    }
   ],
   "source": [
    "%%timeit\n",
    "zeroes = x_1 == 0\n",
    "x_1[1:][zeroes[:-1]].max()"
   ]
  },
  {
   "cell_type": "code",
   "execution_count": 37,
   "metadata": {},
   "outputs": [
    {
     "name": "stdout",
     "output_type": "stream",
     "text": [
      "2.7 µs ± 15.6 ns per loop (mean ± std. dev. of 7 runs, 100000 loops each)\n"
     ]
    }
   ],
   "source": [
    "%%timeit\n",
    "zeroes = x_2 == 0\n",
    "x_2[1:][zeroes[:-1]].max()"
   ]
  },
  {
   "cell_type": "code",
   "execution_count": 38,
   "metadata": {},
   "outputs": [
    {
     "name": "stdout",
     "output_type": "stream",
     "text": [
      "5.19 µs ± 13.5 ns per loop (mean ± std. dev. of 7 runs, 100000 loops each)\n"
     ]
    }
   ],
   "source": [
    "%%timeit\n",
    "zeroes = x_3 == 0\n",
    "x_3[1:][zeroes[:-1]].max()"
   ]
  },
  {
   "cell_type": "markdown",
   "metadata": {},
   "source": [
    "#### 4.2"
   ]
  },
  {
   "cell_type": "code",
   "execution_count": 39,
   "metadata": {},
   "outputs": [
    {
     "data": {
      "text/plain": [
       "5"
      ]
     },
     "execution_count": 39,
     "metadata": {},
     "output_type": "execute_result"
    }
   ],
   "source": [
    "max_ = x.min() - 1\n",
    "for i in range(1, x.size):\n",
    "    if x[i-1] == 0 and x[i] > max_:\n",
    "        max_ = x[i]\n",
    "max_"
   ]
  },
  {
   "cell_type": "code",
   "execution_count": 40,
   "metadata": {},
   "outputs": [
    {
     "name": "stdout",
     "output_type": "stream",
     "text": [
      "3.7 µs ± 23.6 ns per loop (mean ± std. dev. of 7 runs, 100000 loops each)\n"
     ]
    }
   ],
   "source": [
    "%%timeit\n",
    "max_ = x_1.min() - 1\n",
    "for i in range(1, x_1.size):\n",
    "    if x_1[i-1] == 0 and x_1[i] > max_:\n",
    "        max_ = x_1[i]\n",
    "max_"
   ]
  },
  {
   "cell_type": "code",
   "execution_count": 41,
   "metadata": {},
   "outputs": [
    {
     "name": "stdout",
     "output_type": "stream",
     "text": [
      "22 µs ± 272 ns per loop (mean ± std. dev. of 7 runs, 10000 loops each)\n"
     ]
    }
   ],
   "source": [
    "%%timeit\n",
    "max_ = x_2.min() - 1\n",
    "for i in range(1, x_2.size):\n",
    "    if x_2[i-1] == 0 and x_2[i] > max_:\n",
    "        max_ = x_2[i]\n",
    "max_"
   ]
  },
  {
   "cell_type": "code",
   "execution_count": 42,
   "metadata": {},
   "outputs": [
    {
     "name": "stdout",
     "output_type": "stream",
     "text": [
      "230 µs ± 1.67 µs per loop (mean ± std. dev. of 7 runs, 1000 loops each)\n"
     ]
    }
   ],
   "source": [
    "%%timeit\n",
    "max_ = x_3.min() - 1\n",
    "for i in range(1, x_3.size):\n",
    "    if x_3[i-1] == 0 and x_3[i] > max_:\n",
    "        max_ = x_3[i]\n",
    "max_"
   ]
  },
  {
   "cell_type": "markdown",
   "metadata": {},
   "source": [
    "#### 4.3"
   ]
  },
  {
   "cell_type": "code",
   "execution_count": 43,
   "metadata": {},
   "outputs": [
    {
     "data": {
      "text/plain": [
       "5"
      ]
     },
     "execution_count": 43,
     "metadata": {},
     "output_type": "execute_result"
    }
   ],
   "source": [
    "max_ = int\n",
    "for i in x.argsort()[::-1]:\n",
    "    if i != 0 and x[i-1] == 0:\n",
    "        max_ = x[i]\n",
    "        break\n",
    "max_"
   ]
  },
  {
   "cell_type": "code",
   "execution_count": 44,
   "metadata": {},
   "outputs": [
    {
     "name": "stdout",
     "output_type": "stream",
     "text": [
      "1.03 µs ± 12.4 ns per loop (mean ± std. dev. of 7 runs, 1000000 loops each)\n"
     ]
    }
   ],
   "source": [
    "%%timeit\n",
    "max_ = int\n",
    "for i in x_1.argsort()[::-1]:\n",
    "    if i != 0 and x_1[i-1] == 0:\n",
    "        max_ = x_1[i]\n",
    "        break\n",
    "max_"
   ]
  },
  {
   "cell_type": "code",
   "execution_count": 45,
   "metadata": {},
   "outputs": [
    {
     "name": "stdout",
     "output_type": "stream",
     "text": [
      "1.7 µs ± 15.2 ns per loop (mean ± std. dev. of 7 runs, 1000000 loops each)\n"
     ]
    }
   ],
   "source": [
    "%%timeit\n",
    "max_ = int\n",
    "for i in x_2.argsort()[::-1]:\n",
    "    if i != 0 and x_2[i-1] == 0:\n",
    "        max_ = x_2[i]\n",
    "        break\n",
    "max_"
   ]
  },
  {
   "cell_type": "code",
   "execution_count": 46,
   "metadata": {},
   "outputs": [
    {
     "name": "stdout",
     "output_type": "stream",
     "text": [
      "5.54 µs ± 24.5 ns per loop (mean ± std. dev. of 7 runs, 100000 loops each)\n"
     ]
    }
   ],
   "source": [
    "%%timeit\n",
    "max_ = int\n",
    "for i in x_3.argsort()[::-1]:\n",
    "    if i != 0 and x_3[i-1] == 0:\n",
    "        max_ = x_3[i]\n",
    "        break\n",
    "max_"
   ]
  },
  {
   "cell_type": "markdown",
   "metadata": {},
   "source": [
    "### 5. Дан трёхмерный массив, содержащий изображение, размера (height, width, numChannels), а также вектор длины numChannels. Сложить каналы изображения с указанными весами, и вернуть результат в виде матрицы размера (height, width). Считать реальное изображение можно при помощи функции scipy.misc.imread (если изображение не в формате png, установите пакет pillow: conda install pillow). Преобразуйте цветное изображение в оттенки серого, использовав коэффициенты np.array([0.299, 0.587, 0.114])."
   ]
  },
  {
   "cell_type": "code",
   "execution_count": 49,
   "metadata": {
    "scrolled": true
   },
   "outputs": [],
   "source": [
    "import imageio\n",
    "im_1 = imageio.imread('images/amongus_10.jpg')\n",
    "im_2 = imageio.imread('images/amongus_100.jpg')\n",
    "im_3 = imageio.imread('images/amongus_1000.png')\n",
    "coef = np.array([0.299, 0.587, 0.114])"
   ]
  },
  {
   "cell_type": "markdown",
   "metadata": {},
   "source": [
    "#### 5.1"
   ]
  },
  {
   "cell_type": "code",
   "execution_count": 50,
   "metadata": {
    "scrolled": true
   },
   "outputs": [
    {
     "name": "stderr",
     "output_type": "stream",
     "text": [
      "Lossy conversion from float64 to uint8. Range [2.9349999999999996, 251.012]. Convert image to uint8 prior to saving to suppress this warning.\n"
     ]
    }
   ],
   "source": [
    "im_1_bw = (im_1*coef).sum(2)\n",
    "imageio.imwrite('images/amongus_10_BW.jpg', im_1_bw)"
   ]
  },
  {
   "cell_type": "code",
   "execution_count": 53,
   "metadata": {
    "scrolled": true
   },
   "outputs": [
    {
     "name": "stdout",
     "output_type": "stream",
     "text": [
      "12.4 µs ± 2.91 µs per loop (mean ± std. dev. of 7 runs, 100000 loops each)\n"
     ]
    }
   ],
   "source": [
    "%%timeit\n",
    "im_1_bw = (im_1*coef).sum(2)\n",
    "im_1_bw"
   ]
  },
  {
   "cell_type": "code",
   "execution_count": 54,
   "metadata": {
    "scrolled": true
   },
   "outputs": [
    {
     "name": "stdout",
     "output_type": "stream",
     "text": [
      "270 µs ± 2.12 µs per loop (mean ± std. dev. of 7 runs, 1000 loops each)\n"
     ]
    }
   ],
   "source": [
    "%%timeit\n",
    "im_2_bw = (im_2*coef).sum(2)\n",
    "im_2_bw"
   ]
  },
  {
   "cell_type": "code",
   "execution_count": 55,
   "metadata": {
    "scrolled": true
   },
   "outputs": [
    {
     "name": "stdout",
     "output_type": "stream",
     "text": [
      "28.8 ms ± 518 µs per loop (mean ± std. dev. of 7 runs, 10 loops each)\n"
     ]
    }
   ],
   "source": [
    "%%timeit\n",
    "im_3_bw = (im_3*coef).sum(2)\n",
    "im_3_bw"
   ]
  },
  {
   "cell_type": "markdown",
   "metadata": {},
   "source": [
    "#### 5.2"
   ]
  },
  {
   "cell_type": "code",
   "execution_count": 51,
   "metadata": {
    "scrolled": true
   },
   "outputs": [
    {
     "name": "stderr",
     "output_type": "stream",
     "text": [
      "Lossy conversion from float64 to uint8. Range [0.0, 254.43]. Convert image to uint8 prior to saving to suppress this warning.\n"
     ]
    }
   ],
   "source": [
    "im_2_bw = np.empty((im_2.shape[0], im_2.shape[1], 1))\n",
    "for i in range(im_2.shape[0]):\n",
    "    for j in range(im_2.shape[1]):\n",
    "        im_2_bw[i, j, 0] = sum(im_2[i, j] * coef)\n",
    "imageio.imwrite('images/amongus_100_BW.jpg', im_2_bw)"
   ]
  },
  {
   "cell_type": "code",
   "execution_count": 56,
   "metadata": {
    "scrolled": true
   },
   "outputs": [
    {
     "name": "stdout",
     "output_type": "stream",
     "text": [
      "2.1 ms ± 99.9 µs per loop (mean ± std. dev. of 7 runs, 100 loops each)\n"
     ]
    }
   ],
   "source": [
    "%%timeit\n",
    "im_1_bw = np.empty((im_1.shape[0], im_1.shape[1], 1))\n",
    "for i in range(im_1.shape[0]):\n",
    "    for j in range(im_1.shape[1]):\n",
    "        im_1_bw[i, j, 0] = sum(im_1[i, j] * coef)\n",
    "im_1_bw"
   ]
  },
  {
   "cell_type": "code",
   "execution_count": 57,
   "metadata": {
    "scrolled": true
   },
   "outputs": [
    {
     "name": "stdout",
     "output_type": "stream",
     "text": [
      "106 ms ± 5.42 ms per loop (mean ± std. dev. of 7 runs, 10 loops each)\n"
     ]
    }
   ],
   "source": [
    "%%timeit\n",
    "im_2_bw = np.empty((im_2.shape[0], im_2.shape[1], 1))\n",
    "for i in range(im_2.shape[0]):\n",
    "    for j in range(im_2.shape[1]):\n",
    "        im_2_bw[i, j, 0] = sum(im_2[i, j] * coef)\n",
    "im_2_bw"
   ]
  },
  {
   "cell_type": "code",
   "execution_count": 58,
   "metadata": {
    "scrolled": true
   },
   "outputs": [
    {
     "name": "stdout",
     "output_type": "stream",
     "text": [
      "7.14 s ± 84.2 ms per loop (mean ± std. dev. of 7 runs, 1 loop each)\n"
     ]
    }
   ],
   "source": [
    "%%timeit\n",
    "im_3_bw = np.empty((im_3.shape[0], im_3.shape[1], 1))\n",
    "for i in range(im_3.shape[0]):\n",
    "    for j in range(im_3.shape[1]):\n",
    "        im_3_bw[i, j, 0] = sum(im_3[i, j] * coef)\n",
    "im_3_bw"
   ]
  },
  {
   "cell_type": "markdown",
   "metadata": {},
   "source": [
    "#### 5.3"
   ]
  },
  {
   "cell_type": "code",
   "execution_count": 52,
   "metadata": {},
   "outputs": [
    {
     "name": "stderr",
     "output_type": "stream",
     "text": [
      "Lossy conversion from float64 to uint8. Range [0.0, 255.0]. Convert image to uint8 prior to saving to suppress this warning.\n"
     ]
    }
   ],
   "source": [
    "im_3_bw_modified = im_3 * coef\n",
    "im_3_bw = im_3_bw_modified.sum(axis=2)\n",
    "imageio.imwrite('images/amongus_1000_BW.jpg', im_3_bw)"
   ]
  },
  {
   "cell_type": "code",
   "execution_count": 59,
   "metadata": {},
   "outputs": [
    {
     "name": "stdout",
     "output_type": "stream",
     "text": [
      "10.9 µs ± 165 ns per loop (mean ± std. dev. of 7 runs, 100000 loops each)\n"
     ]
    }
   ],
   "source": [
    "%%timeit\n",
    "im_1_bw_modified = im_1 * coef\n",
    "im_1_bw = im_1_bw_modified.sum(axis=2)\n",
    "im_1_bw"
   ]
  },
  {
   "cell_type": "code",
   "execution_count": 60,
   "metadata": {},
   "outputs": [
    {
     "name": "stdout",
     "output_type": "stream",
     "text": [
      "263 µs ± 1.29 µs per loop (mean ± std. dev. of 7 runs, 1000 loops each)\n"
     ]
    }
   ],
   "source": [
    "%%timeit\n",
    "im_2_bw_modified = im_2 * coef\n",
    "im_2_bw = im_2_bw_modified.sum(axis=2)\n",
    "im_2_bw"
   ]
  },
  {
   "cell_type": "code",
   "execution_count": 61,
   "metadata": {},
   "outputs": [
    {
     "name": "stdout",
     "output_type": "stream",
     "text": [
      "28.4 ms ± 213 µs per loop (mean ± std. dev. of 7 runs, 10 loops each)\n"
     ]
    }
   ],
   "source": [
    "%%timeit\n",
    "im_3_bw_modified = im_3 * coef\n",
    "im_3_bw = im_3_bw_modified.sum(axis=2)\n",
    "im_3_bw"
   ]
  },
  {
   "cell_type": "markdown",
   "metadata": {},
   "source": [
    "### 6. Реализовать кодирование длин серий (Run-length encoding). Дан вектор x. Необходимо вернуть кортеж из двух векторов одинаковой длины. Первый содержит числа, а второй - сколько раз их нужно повторить. \n",
    "Пример: x = np.array([2, 2, 2, 3, 3, 3, 5]). Ответ: (np.array([2, 3, 5]), np.array([3, 3, 1]))."
   ]
  },
  {
   "cell_type": "code",
   "execution_count": 109,
   "metadata": {},
   "outputs": [],
   "source": [
    "from itertools import groupby\n",
    "x = np.array([2, 2, 2, 3, 3, 3, 5, 3, 3])\n",
    "x_1 = np.array([random.randint(1, 3) for i in range(10)])\n",
    "x_2 = np.array([random.randint(1, 3) for i in range(100)])\n",
    "x_3 = np.array([random.randint(1, 3) for i in range(1000)])"
   ]
  },
  {
   "cell_type": "markdown",
   "metadata": {},
   "source": [
    "#### 6.1"
   ]
  },
  {
   "cell_type": "code",
   "execution_count": 110,
   "metadata": {},
   "outputs": [
    {
     "data": {
      "text/plain": [
       "(array([2, 3, 5, 3]), array([3, 3, 1, 2]))"
      ]
     },
     "execution_count": 110,
     "metadata": {},
     "output_type": "execute_result"
    }
   ],
   "source": [
    "def rle(x):\n",
    "    vals = []\n",
    "    counts = []\n",
    "    def rle_map(x, vals_=vals, counts_=counts):\n",
    "        if not len(vals_):\n",
    "            vals_.append(x)\n",
    "            counts_.append(1)\n",
    "        else:\n",
    "            if x == vals_[-1]:\n",
    "                counts_[-1] += 1\n",
    "            else:\n",
    "                vals_.append(x)\n",
    "                counts_.append(1)\n",
    "    list(map(rle_map, x))\n",
    "    vals = np.array(vals)\n",
    "    counts = np.array(counts)\n",
    "    return (vals, counts)\n",
    "rle(x)"
   ]
  },
  {
   "cell_type": "code",
   "execution_count": 111,
   "metadata": {},
   "outputs": [
    {
     "name": "stdout",
     "output_type": "stream",
     "text": [
      "5.15 µs ± 27.9 ns per loop (mean ± std. dev. of 7 runs, 100000 loops each)\n"
     ]
    }
   ],
   "source": [
    "%%timeit\n",
    "rle(x_1)"
   ]
  },
  {
   "cell_type": "code",
   "execution_count": 112,
   "metadata": {},
   "outputs": [
    {
     "name": "stdout",
     "output_type": "stream",
     "text": [
      "33.9 µs ± 246 ns per loop (mean ± std. dev. of 7 runs, 10000 loops each)\n"
     ]
    }
   ],
   "source": [
    "%%timeit\n",
    "rle(x_2)"
   ]
  },
  {
   "cell_type": "code",
   "execution_count": 113,
   "metadata": {},
   "outputs": [
    {
     "name": "stdout",
     "output_type": "stream",
     "text": [
      "326 µs ± 13.9 µs per loop (mean ± std. dev. of 7 runs, 1000 loops each)\n"
     ]
    }
   ],
   "source": [
    "%%timeit\n",
    "rle(x_3)"
   ]
  },
  {
   "cell_type": "markdown",
   "metadata": {},
   "source": [
    "#### 6.2"
   ]
  },
  {
   "cell_type": "code",
   "execution_count": 114,
   "metadata": {},
   "outputs": [
    {
     "data": {
      "text/plain": [
       "(array([2, 3, 5, 3]), array([3, 3, 1, 2]))"
      ]
     },
     "execution_count": 114,
     "metadata": {},
     "output_type": "execute_result"
    }
   ],
   "source": [
    "def rle(a):\n",
    "    return tuple(map(np.array, zip(*((key, len(tuple(group))) for key, group in groupby(a)))))\n",
    "rle(x)"
   ]
  },
  {
   "cell_type": "code",
   "execution_count": 115,
   "metadata": {},
   "outputs": [
    {
     "name": "stdout",
     "output_type": "stream",
     "text": [
      "5.89 µs ± 115 ns per loop (mean ± std. dev. of 7 runs, 100000 loops each)\n"
     ]
    }
   ],
   "source": [
    "%%timeit\n",
    "rle(x_1)"
   ]
  },
  {
   "cell_type": "code",
   "execution_count": 116,
   "metadata": {},
   "outputs": [
    {
     "name": "stdout",
     "output_type": "stream",
     "text": [
      "36 µs ± 1.18 µs per loop (mean ± std. dev. of 7 runs, 10000 loops each)\n"
     ]
    }
   ],
   "source": [
    "%%timeit\n",
    "rle(x_2)"
   ]
  },
  {
   "cell_type": "code",
   "execution_count": 117,
   "metadata": {},
   "outputs": [
    {
     "name": "stdout",
     "output_type": "stream",
     "text": [
      "333 µs ± 2.61 µs per loop (mean ± std. dev. of 7 runs, 1000 loops each)\n"
     ]
    }
   ],
   "source": [
    "%%timeit\n",
    "rle(x_3)"
   ]
  },
  {
   "cell_type": "markdown",
   "metadata": {},
   "source": [
    "#### 6.3"
   ]
  },
  {
   "cell_type": "code",
   "execution_count": 118,
   "metadata": {},
   "outputs": [
    {
     "data": {
      "text/plain": [
       "(array([2, 3, 5, 3]), array([3, 3, 1, 2]))"
      ]
     },
     "execution_count": 118,
     "metadata": {},
     "output_type": "execute_result"
    }
   ],
   "source": [
    "def rle(x):\n",
    "    vals = []\n",
    "    counts = []\n",
    "    def rle_map(x, vals_=vals, counts_=counts):\n",
    "        if len(vals_) == 0:\n",
    "            vals_.append(x)\n",
    "            counts_.append(1)\n",
    "        else:\n",
    "            if x == vals_[-1]:\n",
    "                counts_[-1] += 1\n",
    "            else:\n",
    "                vals_.append(x)\n",
    "                counts_.append(1)\n",
    "    for item in x:\n",
    "        rle_map(item)\n",
    "    vals = np.array(vals)\n",
    "    counts = np.array(counts)\n",
    "    return (vals, counts)\n",
    "rle(x)"
   ]
  },
  {
   "cell_type": "code",
   "execution_count": 119,
   "metadata": {},
   "outputs": [
    {
     "name": "stdout",
     "output_type": "stream",
     "text": [
      "5.18 µs ± 101 ns per loop (mean ± std. dev. of 7 runs, 100000 loops each)\n"
     ]
    }
   ],
   "source": [
    "%%timeit\n",
    "rle(x_1)"
   ]
  },
  {
   "cell_type": "code",
   "execution_count": 120,
   "metadata": {},
   "outputs": [
    {
     "name": "stdout",
     "output_type": "stream",
     "text": [
      "34.7 µs ± 775 ns per loop (mean ± std. dev. of 7 runs, 10000 loops each)\n"
     ]
    }
   ],
   "source": [
    "%%timeit\n",
    "rle(x_2)"
   ]
  },
  {
   "cell_type": "code",
   "execution_count": 121,
   "metadata": {},
   "outputs": [
    {
     "name": "stdout",
     "output_type": "stream",
     "text": [
      "340 µs ± 12 µs per loop (mean ± std. dev. of 7 runs, 1000 loops each)\n"
     ]
    }
   ],
   "source": [
    "%%timeit\n",
    "rle(x_3)"
   ]
  },
  {
   "cell_type": "markdown",
   "metadata": {},
   "source": [
    "### 7. Даны две выборки объектов - X и Y. Вычислить матрицу евклидовых расстояний между объектами. Сравнить с функцией scipy.spatial.distance.cdist."
   ]
  },
  {
   "cell_type": "code",
   "execution_count": 23,
   "metadata": {},
   "outputs": [],
   "source": [
    "from scipy import spatial\n",
    "X_1 = np.array([[random.randint(1, 10), random.randint(1, 10)] for i in range(10)])\n",
    "Y_1 = np.array([[random.randint(1, 10), random.randint(1, 10)] for i in range(10)])\n",
    "X_2 = np.array([[random.randint(1, 100), random.randint(1, 100)] for i in range(100)])\n",
    "Y_2 = np.array([[random.randint(1, 100), random.randint(1, 100)] for i in range(100)])\n",
    "X_3 = np.array([[random.randint(1, 1000), random.randint(1, 1000)] for i in range(1000)])\n",
    "Y_3 = np.array([[random.randint(1, 1000), random.randint(1, 1000)] for i in range(1000)])"
   ]
  },
  {
   "cell_type": "markdown",
   "metadata": {},
   "source": [
    "#### 7.1"
   ]
  },
  {
   "cell_type": "code",
   "execution_count": 24,
   "metadata": {
    "scrolled": true
   },
   "outputs": [
    {
     "data": {
      "text/plain": [
       "array([[ 8.94427191,  8.        ,  2.82842712,  4.47213595,  5.        ,\n",
       "         1.        ,  5.38516481,  7.21110255,  2.23606798,  7.21110255],\n",
       "       [ 4.47213595,  2.        ,  4.47213595,  2.82842712,  1.        ,\n",
       "         6.08276253,  2.23606798,  4.        ,  5.38516481,  4.        ],\n",
       "       [ 7.07106781,  5.09901951,  1.41421356,  1.41421356,  2.23606798,\n",
       "         3.        ,  3.60555128,  5.83095189,  2.23606798,  4.24264069],\n",
       "       [ 5.        ,  6.40312424,  6.08276253,  6.08276253,  4.47213595,\n",
       "         5.83095189,  2.82842712,  3.        ,  6.32455532,  8.54400375],\n",
       "       [ 7.61577311,  4.24264069,  3.16227766,  1.41421356,  3.        ,\n",
       "         5.38516481,  5.        ,  7.07106781,  4.12310563,  1.41421356],\n",
       "       [ 6.40312424,  4.12310563,  2.23606798,  1.        ,  1.41421356,\n",
       "         4.        ,  3.16227766,  5.38516481,  3.16227766,  3.60555128],\n",
       "       [10.81665383,  9.21954446,  3.        ,  5.        ,  6.32455532,\n",
       "         1.41421356,  7.21110255,  9.21954446,  2.        ,  7.28010989],\n",
       "       [ 7.81024968,  6.08276253,  1.        ,  2.23606798,  3.16227766,\n",
       "         2.        ,  4.24264069,  6.40312424,  1.41421356,  5.        ],\n",
       "       [ 9.21954446,  9.21954446,  5.        ,  6.40312424,  6.32455532,\n",
       "         3.16227766,  6.        ,  7.28010989,  4.47213595,  9.21954446],\n",
       "       [ 3.60555128,  3.60555128,  5.        ,  4.12310563,  2.        ,\n",
       "         5.83095189,  0.        ,  2.23606798,  5.65685425,  6.08276253]])"
      ]
     },
     "execution_count": 24,
     "metadata": {},
     "output_type": "execute_result"
    }
   ],
   "source": [
    "def get_distances(X, Y):\n",
    "    P = np.add.outer(np.sum(X**2, axis=1), np.sum(Y**2, axis=1))\n",
    "    N = np.dot(X, Y.T)\n",
    "    return np.sqrt(P - 2*N)\n",
    "get_distances(X_1, Y_1)"
   ]
  },
  {
   "cell_type": "code",
   "execution_count": 25,
   "metadata": {},
   "outputs": [
    {
     "name": "stdout",
     "output_type": "stream",
     "text": [
      "15.8 µs ± 237 ns per loop (mean ± std. dev. of 7 runs, 100000 loops each)\n"
     ]
    }
   ],
   "source": [
    "%%timeit\n",
    "get_distances(X_1, Y_1)"
   ]
  },
  {
   "cell_type": "code",
   "execution_count": 26,
   "metadata": {},
   "outputs": [
    {
     "name": "stdout",
     "output_type": "stream",
     "text": [
      "101 µs ± 1.73 µs per loop (mean ± std. dev. of 7 runs, 10000 loops each)\n"
     ]
    }
   ],
   "source": [
    "%%timeit\n",
    "get_distances(X_2, Y_2)"
   ]
  },
  {
   "cell_type": "code",
   "execution_count": 27,
   "metadata": {},
   "outputs": [
    {
     "name": "stdout",
     "output_type": "stream",
     "text": [
      "15.8 ms ± 812 µs per loop (mean ± std. dev. of 7 runs, 100 loops each)\n"
     ]
    }
   ],
   "source": [
    "%%timeit\n",
    "get_distances(X_3, Y_3)"
   ]
  },
  {
   "cell_type": "markdown",
   "metadata": {},
   "source": [
    "#### 7.2"
   ]
  },
  {
   "cell_type": "code",
   "execution_count": 28,
   "metadata": {
    "scrolled": true
   },
   "outputs": [
    {
     "data": {
      "text/plain": [
       "array([[ 8.94427191,  8.        ,  2.82842712,  4.47213595,  5.        ,\n",
       "         1.        ,  5.38516481,  7.21110255,  2.23606798,  7.21110255],\n",
       "       [ 4.47213595,  2.        ,  4.47213595,  2.82842712,  1.        ,\n",
       "         6.08276253,  2.23606798,  4.        ,  5.38516481,  4.        ],\n",
       "       [ 7.07106781,  5.09901951,  1.41421356,  1.41421356,  2.23606798,\n",
       "         3.        ,  3.60555128,  5.83095189,  2.23606798,  4.24264069],\n",
       "       [ 5.        ,  6.40312424,  6.08276253,  6.08276253,  4.47213595,\n",
       "         5.83095189,  2.82842712,  3.        ,  6.32455532,  8.54400375],\n",
       "       [ 7.61577311,  4.24264069,  3.16227766,  1.41421356,  3.        ,\n",
       "         5.38516481,  5.        ,  7.07106781,  4.12310563,  1.41421356],\n",
       "       [ 6.40312424,  4.12310563,  2.23606798,  1.        ,  1.41421356,\n",
       "         4.        ,  3.16227766,  5.38516481,  3.16227766,  3.60555128],\n",
       "       [10.81665383,  9.21954446,  3.        ,  5.        ,  6.32455532,\n",
       "         1.41421356,  7.21110255,  9.21954446,  2.        ,  7.28010989],\n",
       "       [ 7.81024968,  6.08276253,  1.        ,  2.23606798,  3.16227766,\n",
       "         2.        ,  4.24264069,  6.40312424,  1.41421356,  5.        ],\n",
       "       [ 9.21954446,  9.21954446,  5.        ,  6.40312424,  6.32455532,\n",
       "         3.16227766,  6.        ,  7.28010989,  4.47213595,  9.21954446],\n",
       "       [ 3.60555128,  3.60555128,  5.        ,  4.12310563,  2.        ,\n",
       "         5.83095189,  0.        ,  2.23606798,  5.65685425,  6.08276253]])"
      ]
     },
     "execution_count": 28,
     "metadata": {},
     "output_type": "execute_result"
    }
   ],
   "source": [
    "def get_distances(X, Y):\n",
    "    matrix = np.empty((X.shape[0], Y.shape[0]))\n",
    "    for i in range(X.shape[0]):\n",
    "        for j in range(Y.shape[0]):\n",
    "            matrix[i, j] = np.linalg.norm(X[i]-Y[j])\n",
    "    return matrix\n",
    "get_distances(X_1, Y_1)"
   ]
  },
  {
   "cell_type": "code",
   "execution_count": 29,
   "metadata": {},
   "outputs": [
    {
     "name": "stdout",
     "output_type": "stream",
     "text": [
      "467 µs ± 12.3 µs per loop (mean ± std. dev. of 7 runs, 1000 loops each)\n"
     ]
    }
   ],
   "source": [
    "%%timeit\n",
    "get_distances(X_1, Y_1)"
   ]
  },
  {
   "cell_type": "code",
   "execution_count": 30,
   "metadata": {},
   "outputs": [
    {
     "name": "stdout",
     "output_type": "stream",
     "text": [
      "45.8 ms ± 430 µs per loop (mean ± std. dev. of 7 runs, 10 loops each)\n"
     ]
    }
   ],
   "source": [
    "%%timeit\n",
    "get_distances(X_2, Y_2)"
   ]
  },
  {
   "cell_type": "code",
   "execution_count": 31,
   "metadata": {},
   "outputs": [
    {
     "name": "stdout",
     "output_type": "stream",
     "text": [
      "4.57 s ± 44.7 ms per loop (mean ± std. dev. of 7 runs, 1 loop each)\n"
     ]
    }
   ],
   "source": [
    "%%timeit\n",
    "get_distances(X_3, Y_3)"
   ]
  },
  {
   "cell_type": "markdown",
   "metadata": {},
   "source": [
    "#### 7.3"
   ]
  },
  {
   "cell_type": "code",
   "execution_count": 32,
   "metadata": {
    "scrolled": true
   },
   "outputs": [
    {
     "data": {
      "text/plain": [
       "array([[ 8.94427191,  8.        ,  2.82842712,  4.47213595,  5.        ,\n",
       "         1.        ,  5.38516481,  7.21110255,  2.23606798,  7.21110255],\n",
       "       [ 4.47213595,  2.        ,  4.47213595,  2.82842712,  1.        ,\n",
       "         6.08276253,  2.23606798,  4.        ,  5.38516481,  4.        ],\n",
       "       [ 7.07106781,  5.09901951,  1.41421356,  1.41421356,  2.23606798,\n",
       "         3.        ,  3.60555128,  5.83095189,  2.23606798,  4.24264069],\n",
       "       [ 5.        ,  6.40312424,  6.08276253,  6.08276253,  4.47213595,\n",
       "         5.83095189,  2.82842712,  3.        ,  6.32455532,  8.54400375],\n",
       "       [ 7.61577311,  4.24264069,  3.16227766,  1.41421356,  3.        ,\n",
       "         5.38516481,  5.        ,  7.07106781,  4.12310563,  1.41421356],\n",
       "       [ 6.40312424,  4.12310563,  2.23606798,  1.        ,  1.41421356,\n",
       "         4.        ,  3.16227766,  5.38516481,  3.16227766,  3.60555128],\n",
       "       [10.81665383,  9.21954446,  3.        ,  5.        ,  6.32455532,\n",
       "         1.41421356,  7.21110255,  9.21954446,  2.        ,  7.28010989],\n",
       "       [ 7.81024968,  6.08276253,  1.        ,  2.23606798,  3.16227766,\n",
       "         2.        ,  4.24264069,  6.40312424,  1.41421356,  5.        ],\n",
       "       [ 9.21954446,  9.21954446,  5.        ,  6.40312424,  6.32455532,\n",
       "         3.16227766,  6.        ,  7.28010989,  4.47213595,  9.21954446],\n",
       "       [ 3.60555128,  3.60555128,  5.        ,  4.12310563,  2.        ,\n",
       "         5.83095189,  0.        ,  2.23606798,  5.65685425,  6.08276253]])"
      ]
     },
     "execution_count": 32,
     "metadata": {},
     "output_type": "execute_result"
    }
   ],
   "source": [
    "def get_distances(X, Y):\n",
    "    matrix = []\n",
    "    def get_dist(*x, X_=X, Y_=Y, m=matrix):\n",
    "        return m.append(np.linalg.norm(x[0][0]-x[0][1]))\n",
    "    XY = [(x, y) for x in X for y in Y]\n",
    "    list(map(lambda x: get_dist(x), XY))\n",
    "    matrix = np.array(matrix)\n",
    "    matrix = np.reshape(matrix, (X.shape[0], Y.shape[0]))\n",
    "    return matrix\n",
    "get_distances(X_1, Y_1)"
   ]
  },
  {
   "cell_type": "code",
   "execution_count": 33,
   "metadata": {},
   "outputs": [
    {
     "name": "stdout",
     "output_type": "stream",
     "text": [
      "492 µs ± 4.58 µs per loop (mean ± std. dev. of 7 runs, 1000 loops each)\n"
     ]
    }
   ],
   "source": [
    "%%timeit\n",
    "get_distances(X_1, Y_1)"
   ]
  },
  {
   "cell_type": "code",
   "execution_count": 34,
   "metadata": {},
   "outputs": [
    {
     "name": "stdout",
     "output_type": "stream",
     "text": [
      "49.5 ms ± 554 µs per loop (mean ± std. dev. of 7 runs, 10 loops each)\n"
     ]
    }
   ],
   "source": [
    "%%timeit\n",
    "get_distances(X_2, Y_2)"
   ]
  },
  {
   "cell_type": "code",
   "execution_count": 35,
   "metadata": {},
   "outputs": [
    {
     "name": "stdout",
     "output_type": "stream",
     "text": [
      "4.97 s ± 40.7 ms per loop (mean ± std. dev. of 7 runs, 1 loop each)\n"
     ]
    }
   ],
   "source": [
    "%%timeit\n",
    "get_distances(X_3, Y_3)"
   ]
  },
  {
   "cell_type": "markdown",
   "metadata": {},
   "source": [
    "#### 7.4"
   ]
  },
  {
   "cell_type": "code",
   "execution_count": 36,
   "metadata": {},
   "outputs": [
    {
     "data": {
      "text/plain": [
       "array([[ 8.94427191,  8.        ,  2.82842712,  4.47213595,  5.        ,\n",
       "         1.        ,  5.38516481,  7.21110255,  2.23606798,  7.21110255],\n",
       "       [ 4.47213595,  2.        ,  4.47213595,  2.82842712,  1.        ,\n",
       "         6.08276253,  2.23606798,  4.        ,  5.38516481,  4.        ],\n",
       "       [ 7.07106781,  5.09901951,  1.41421356,  1.41421356,  2.23606798,\n",
       "         3.        ,  3.60555128,  5.83095189,  2.23606798,  4.24264069],\n",
       "       [ 5.        ,  6.40312424,  6.08276253,  6.08276253,  4.47213595,\n",
       "         5.83095189,  2.82842712,  3.        ,  6.32455532,  8.54400375],\n",
       "       [ 7.61577311,  4.24264069,  3.16227766,  1.41421356,  3.        ,\n",
       "         5.38516481,  5.        ,  7.07106781,  4.12310563,  1.41421356],\n",
       "       [ 6.40312424,  4.12310563,  2.23606798,  1.        ,  1.41421356,\n",
       "         4.        ,  3.16227766,  5.38516481,  3.16227766,  3.60555128],\n",
       "       [10.81665383,  9.21954446,  3.        ,  5.        ,  6.32455532,\n",
       "         1.41421356,  7.21110255,  9.21954446,  2.        ,  7.28010989],\n",
       "       [ 7.81024968,  6.08276253,  1.        ,  2.23606798,  3.16227766,\n",
       "         2.        ,  4.24264069,  6.40312424,  1.41421356,  5.        ],\n",
       "       [ 9.21954446,  9.21954446,  5.        ,  6.40312424,  6.32455532,\n",
       "         3.16227766,  6.        ,  7.28010989,  4.47213595,  9.21954446],\n",
       "       [ 3.60555128,  3.60555128,  5.        ,  4.12310563,  2.        ,\n",
       "         5.83095189,  0.        ,  2.23606798,  5.65685425,  6.08276253]])"
      ]
     },
     "execution_count": 36,
     "metadata": {},
     "output_type": "execute_result"
    }
   ],
   "source": [
    "spatial.distance.cdist(X_1, Y_1)"
   ]
  },
  {
   "cell_type": "code",
   "execution_count": 37,
   "metadata": {},
   "outputs": [
    {
     "name": "stdout",
     "output_type": "stream",
     "text": [
      "3.76 µs ± 35.9 ns per loop (mean ± std. dev. of 7 runs, 100000 loops each)\n"
     ]
    }
   ],
   "source": [
    "%%timeit\n",
    "spatial.distance.cdist(X_1, Y_1)"
   ]
  },
  {
   "cell_type": "code",
   "execution_count": 38,
   "metadata": {},
   "outputs": [
    {
     "name": "stdout",
     "output_type": "stream",
     "text": [
      "39.9 µs ± 445 ns per loop (mean ± std. dev. of 7 runs, 10000 loops each)\n"
     ]
    }
   ],
   "source": [
    "%%timeit\n",
    "spatial.distance.cdist(X_2, Y_2)"
   ]
  },
  {
   "cell_type": "code",
   "execution_count": 39,
   "metadata": {},
   "outputs": [
    {
     "name": "stdout",
     "output_type": "stream",
     "text": [
      "3.42 ms ± 77.8 µs per loop (mean ± std. dev. of 7 runs, 100 loops each)\n"
     ]
    }
   ],
   "source": [
    "%%timeit\n",
    "spatial.distance.cdist(X_3, Y_3)"
   ]
  },
  {
   "cell_type": "markdown",
   "metadata": {
    "ExecuteTime": {
     "end_time": "2021-10-04T16:02:41.398576Z",
     "start_time": "2021-10-04T16:02:41.395795Z"
    }
   },
   "source": [
    "##### Замечание. Можно считать, что все указанные объекты непустые (к примеру, в задаче №1 на диагонали матрицы есть ненулевые элементы).\n",
    "Полезные функции NumPy: np.zeros, np.ones, np.diag, np.eye, np.arange, np.linspace, np.meshgrid,\n",
    "np.random.random, np.random.randint, np.shape, np.reshape, np.transpose, np.any, np.all, np.nonzero, np.where,\n",
    "np.sum, np.cumsum, np.prod, np.diff, np.min, np.max, np.minimum, np.maximum, np.argmin, np.argmax, np.unique,\n",
    "np.sort, np.argsort, np.bincount, np.ravel, np.newaxis, np.dot, np.linalg.inv, np.linalg.solve.\n",
    "Многие из этих функций можно использовать так: x.argmin()."
   ]
  },
  {
   "cell_type": "markdown",
   "metadata": {},
   "source": [
    "# Для каждой из задач:\n",
    "(a) Написать на Python + NumPy несколько вариантов кода различной эффективности. Должно быть не\n",
    "менее трёх вариантов, в том числе как минимум один полностью векторизованный вариант (без циклов), и один\n",
    "вариант без векторизации (с циклами). Третий вариант решения — на ваше усмотрение, например, это может быть\n",
    "наиболее хорошо читаемый способ решения, или частично векторизованный вариант. Все пункты выполнять в одном google collab, разделяя их пунктами 1., 1.1, 1.2, 1.3; 2., 2.1, 2.2, 2.3; и тд.\n",
    "\n",
    "(b) Сравнить в IPython Notebook при помощи %timeit скорость работы на нескольких тестовых наборах\n",
    "РАЗНОГО размера (минимум 3, причём отличаться размеры входных данных должны минимум на порядок. Например, массивы длины 100, 1000, 10000).\n",
    "\n",
    "(c) Проанализировать полученные данные о скорости работы разных реализаций.\n",
    "\n",
    "(d) Получить выводы."
   ]
  }
 ],
 "metadata": {
  "kernelspec": {
   "display_name": "Python 3",
   "language": "python",
   "name": "python3"
  },
  "language_info": {
   "codemirror_mode": {
    "name": "ipython",
    "version": 3
   },
   "file_extension": ".py",
   "mimetype": "text/x-python",
   "name": "python",
   "nbconvert_exporter": "python",
   "pygments_lexer": "ipython3",
   "version": "3.7.3"
  }
 },
 "nbformat": 4,
 "nbformat_minor": 2
}
